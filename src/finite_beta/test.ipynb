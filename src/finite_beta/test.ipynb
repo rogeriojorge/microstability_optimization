{
 "cells": [
  {
   "cell_type": "code",
   "execution_count": 3,
   "metadata": {},
   "outputs": [],
   "source": [
    "from simsopt.mhd.vmec import Vmec\n",
    "from simsopt.geo import SurfaceRZFourier\n",
    "import numpy as np\n",
    "vmec_file = 'results/QH/optimization_QH_beta2.5/wout_final.nc'\n",
    "# vmec_file = 'results_previous/QA/optimization_QA_beta2.5/wout_final.nc'\n",
    "vmec=Vmec(vmec_file)\n",
    "surf = SurfaceRZFourier.from_wout(vmec_file)"
   ]
  },
  {
   "cell_type": "code",
   "execution_count": 4,
   "metadata": {},
   "outputs": [
    {
     "name": "stdout",
     "output_type": "stream",
     "text": [
      "0.09124456342497744\n",
      "0.08820646201413407\n"
     ]
    },
    {
     "data": {
      "text/plain": [
       "[<matplotlib.lines.Line2D at 0x7f9bbb94eb30>]"
      ]
     },
     "execution_count": 4,
     "metadata": {},
     "output_type": "execute_result"
    },
    {
     "data": {
      "image/png": "[encoded data removed]",
      "text/plain": [
       "<Figure size 640x480 with 1 Axes>"
      ]
     },
     "metadata": {},
     "output_type": "display_data"
    }
   ],
   "source": [
    "print(vmec.mean_shear())\n",
    "print(vmec.wout.iotas[-2]-vmec.wout.iotas[2])\n",
    "import matplotlib.pyplot as plt\n",
    "plt.plot(vmec.wout.iotaf)"
   ]
  },
  {
   "cell_type": "code",
   "execution_count": 5,
   "metadata": {},
   "outputs": [
    {
     "name": "stdout",
     "output_type": "stream",
     "text": [
      "0.09124456342497744\n",
      "-0.10875543657502257\n"
     ]
    }
   ],
   "source": [
    "shear_min_QA=0.2;shear_min_QH=0.2;QA_or_QH='QA'\n",
    "def shear_objective(vmec): return np.min((np.abs(vmec.mean_shear())-(shear_min_QA if QA_or_QH=='QA' else shear_min_QH),0))\n",
    "print(np.abs(vmec.mean_shear()))\n",
    "print(shear_objective(vmec))"
   ]
  },
  {
   "cell_type": "code",
   "execution_count": 6,
   "metadata": {},
   "outputs": [
    {
     "name": "stdout",
     "output_type": "stream",
     "text": [
      "Please note: FOCUS sets Nfp in the plasma file.\n",
      "CurveXYZFourier1\n",
      "CurveXYZFourier2\n",
      "CurveXYZFourier3\n",
      "CurveXYZFourier4\n",
      "RotatedCurve1\n"
     ]
    },
    {
     "ename": "AssertionError",
     "evalue": "",
     "output_type": "error",
     "traceback": [
      "\u001b[0;31m---------------------------------------------------------------------------\u001b[0m",
      "\u001b[0;31mAssertionError\u001b[0m                            Traceback (most recent call last)",
      "Cell \u001b[0;32mIn[6], line 10\u001b[0m\n\u001b[1;32m      8\u001b[0m base_currents \u001b[38;5;241m=\u001b[39m [Current(\u001b[38;5;241m1\u001b[39m \u001b[38;5;241m*\u001b[39m \u001b[38;5;241m1e-6\u001b[39m) \u001b[38;5;241m*\u001b[39m \u001b[38;5;241m1e6\u001b[39m \u001b[38;5;28;01mfor\u001b[39;00m _ \u001b[38;5;129;01min\u001b[39;00m \u001b[38;5;28mrange\u001b[39m(ncoils)]\n\u001b[1;32m      9\u001b[0m coils \u001b[38;5;241m=\u001b[39m coils_via_symmetries(base_curves, base_currents, nfp, \u001b[38;5;28;01mTrue\u001b[39;00m)\n\u001b[0;32m---> 10\u001b[0m \u001b[43mcoils_to_focus\u001b[49m\u001b[43m(\u001b[49m\u001b[38;5;124;43m'\u001b[39;49m\u001b[38;5;124;43mtest.txt\u001b[39;49m\u001b[38;5;124;43m'\u001b[39;49m\u001b[43m,\u001b[49m\u001b[43mcurves\u001b[49m\u001b[38;5;241;43m=\u001b[39;49m\u001b[43m[\u001b[49m\u001b[43mcoil\u001b[49m\u001b[38;5;241;43m.\u001b[39;49m\u001b[43m_curve\u001b[49m\u001b[43m \u001b[49m\u001b[38;5;28;43;01mfor\u001b[39;49;00m\u001b[43m \u001b[49m\u001b[43mcoil\u001b[49m\u001b[43m \u001b[49m\u001b[38;5;129;43;01min\u001b[39;49;00m\u001b[43m \u001b[49m\u001b[43mcoils\u001b[49m\u001b[43m]\u001b[49m\u001b[43m,\u001b[49m\u001b[43mcurrents\u001b[49m\u001b[38;5;241;43m=\u001b[39;49m\u001b[43m[\u001b[49m\u001b[43mcoil\u001b[49m\u001b[38;5;241;43m.\u001b[39;49m\u001b[43m_current\u001b[49m\u001b[43m \u001b[49m\u001b[38;5;28;43;01mfor\u001b[39;49;00m\u001b[43m \u001b[49m\u001b[43mcoil\u001b[49m\u001b[43m \u001b[49m\u001b[38;5;129;43;01min\u001b[39;49;00m\u001b[43m \u001b[49m\u001b[43mcoils\u001b[49m\u001b[43m]\u001b[49m\u001b[43m,\u001b[49m\u001b[43mnfp\u001b[49m\u001b[38;5;241;43m=\u001b[39;49m\u001b[43mnfp\u001b[49m\u001b[43m,\u001b[49m\u001b[43mstellsym\u001b[49m\u001b[38;5;241;43m=\u001b[39;49m\u001b[38;5;28;43;01mTrue\u001b[39;49;00m\u001b[43m)\u001b[49m\n",
      "File \u001b[0;32m~/.local/lib/python3.10/site-packages/simsopt/field/coil.py:304\u001b[0m, in \u001b[0;36mcoils_to_focus\u001b[0;34m(filename, curves, currents, nfp, stellsym, Ifree, Lfree)\u001b[0m\n\u001b[1;32m    302\u001b[0m \u001b[38;5;28;01mfor\u001b[39;00m i \u001b[38;5;129;01min\u001b[39;00m \u001b[38;5;28mrange\u001b[39m(ncoils):\n\u001b[1;32m    303\u001b[0m     \u001b[38;5;28mprint\u001b[39m(curves[i])\n\u001b[0;32m--> 304\u001b[0m     \u001b[38;5;28;01massert\u001b[39;00m \u001b[38;5;28misinstance\u001b[39m(curves[i], CurveXYZFourier)\n\u001b[1;32m    305\u001b[0m     nf \u001b[38;5;241m=\u001b[39m curves[i]\u001b[38;5;241m.\u001b[39morder\n\u001b[1;32m    306\u001b[0m     xyz \u001b[38;5;241m=\u001b[39m curves[i]\u001b[38;5;241m.\u001b[39mfull_x\u001b[38;5;241m.\u001b[39mreshape((\u001b[38;5;241m3\u001b[39m, \u001b[38;5;241m-\u001b[39m\u001b[38;5;241m1\u001b[39m))\n",
      "\u001b[0;31mAssertionError\u001b[0m: "
     ]
    }
   ],
   "source": [
    "from simsopt.field import BiotSavart, Current, coils_via_symmetries, coils_to_focus, coils_to_makegrid\n",
    "from simsopt.geo import (CurveLength, curves_to_vtk, create_equally_spaced_curves,\n",
    "                         SurfaceRZFourier, CurveLength, CurveCurveDistance, ArclengthVariation,\n",
    "                         MeanSquaredCurvature, LpCurveCurvature, CurveSurfaceDistance, LinkingNumber)\n",
    "ncoils=4\n",
    "nfp=2\n",
    "base_curves = create_equally_spaced_curves(ncoils, nfp, stellsym=True, R0=1, R1=0.1, order=4, numquadpoints=128)\n",
    "base_currents = [Current(1 * 1e-6) * 1e6 for _ in range(ncoils)]\n",
    "coils = coils_via_symmetries(base_curves, base_currents, nfp, True)\n",
    "coils_to_focus('test.txt',curves=[coil._curve for coil in coils],currents=[coil._current for coil in coils],nfp=nfp,stellsym=True)"
   ]
  },
  {
   "cell_type": "code",
   "execution_count": null,
   "metadata": {},
   "outputs": [
    {
     "name": "stdout",
     "output_type": "stream",
     "text": [
      "True\n"
     ]
    }
   ],
   "source": [
    "from simsopt.geo.curvexyzfourier import CurveXYZFourier\n",
    "print(isinstance(coils[0]._curve, CurveXYZFourier))"
   ]
  },
  {
   "cell_type": "code",
   "execution_count": null,
   "metadata": {},
   "outputs": [
    {
     "name": "stdout",
     "output_type": "stream",
     "text": [
      "True\n"
     ]
    }
   ],
   "source": [
    "curves=[coil._curve for coil in coils]\n",
    "print(isinstance(curves[0], CurveXYZFourier))"
   ]
  },
  {
   "cell_type": "code",
   "execution_count": null,
   "metadata": {},
   "outputs": [],
   "source": []
  }
 ],
 "metadata": {
  "kernelspec": {
   "display_name": "Python 3 (ipykernel)",
   "language": "python",
   "name": "python3"
  },
  "language_info": {
   "codemirror_mode": {
    "name": "ipython",
    "version": 3
   },
   "file_extension": ".py",
   "mimetype": "text/x-python",
   "name": "python",
   "nbconvert_exporter": "python",
   "pygments_lexer": "ipython3",
   "version": "3.10.12"
  }
 },
 "nbformat": 4,
 "nbformat_minor": 2
}
